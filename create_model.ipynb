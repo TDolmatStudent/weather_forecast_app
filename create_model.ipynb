{
 "cells": [
  {
   "cell_type": "markdown",
   "metadata": {},
   "source": [
    "# Imports"
   ]
  },
  {
   "cell_type": "code",
   "execution_count": 30,
   "metadata": {},
   "outputs": [],
   "source": [
    "import pandas as pd\n",
    "from sklearn.model_selection import train_test_split\n",
    "from sklearn.preprocessing import PolynomialFeatures\n",
    "from sklearn.linear_model import LinearRegression\n",
    "from sklearn.metrics import mean_absolute_error, mean_squared_error, r2_score\n",
    "import joblib\n",
    "\n",
    "from constants import POLYNOMIAL_DEGREE, CLEANED_DATASET_PATH, MODEL_TEMP_MAX_PATH, MODEL_TEMP_MIN_PATH"
   ]
  },
  {
   "cell_type": "markdown",
   "metadata": {},
   "source": [
    "# Model for maximal temperature\n",
    "Prediction based on ['year', 'month', 'day', 'was_raining_previous_day'] features "
   ]
  },
  {
   "cell_type": "code",
   "execution_count": 52,
   "metadata": {},
   "outputs": [
    {
     "name": "stdout",
     "output_type": "stream",
     "text": [
      "Maximum temperature Prediction - MAE: 3.04, MSE: 14.83, R2: 0.82\n",
      "\n",
      "Max temp model saved successfully!\n"
     ]
    }
   ],
   "source": [
    "df = pd.read_csv(CLEANED_DATASET_PATH, sep=';')\n",
    "\n",
    "# --- Create ---\n",
    "X = df[['year', 'month', 'day', 'was_raining_previous_day']]\n",
    "y = df['temp_max']\n",
    "\n",
    "X_train, X_test, y_train, y_test = train_test_split(X, y, test_size=0.3)\n",
    "\n",
    "polynomial_features = PolynomialFeatures(degree=POLYNOMIAL_DEGREE)\n",
    "X_train_ = polynomial_features.fit_transform(X_train)\n",
    "X_test_ = polynomial_features.transform(X_test)\n",
    "\n",
    "model = LinearRegression()\n",
    "model.fit(X_train_, y_train)\n",
    "\n",
    "# --- Test ---\n",
    "\n",
    "y_pred = model.predict(X_test_)\n",
    "\n",
    "mae = mean_absolute_error(y_test, y_pred)\n",
    "mse = mean_squared_error(y_test, y_pred)\n",
    "r2 = r2_score(y_test, y_pred)\n",
    "\n",
    "print(f'Maximum temperature Prediction - MAE: {mae:.2f}, MSE: {mse:.2f}, R2: {r2:.2f}')\n",
    "\n",
    "# --- Save ---\n",
    "joblib.dump(model, MODEL_TEMP_MAX_PATH)\n",
    "\n",
    "print('\\nMax temp model saved successfully!')\n"
   ]
  },
  {
   "cell_type": "markdown",
   "metadata": {},
   "source": [
    "# Model for minimal temperature\n",
    "Prediction based on ['year', 'month', 'day', 'was_raining_previous_day', 'temp_max'] features \n",
    "It requires maximum temperature output which will be taken from the previous models' prediction"
   ]
  },
  {
   "cell_type": "code",
   "execution_count": 57,
   "metadata": {},
   "outputs": [
    {
     "name": "stdout",
     "output_type": "stream",
     "text": [
      "Minimum temperature Prediction - MAE: 1.70, MSE: 5.16, R2: 0.89\n",
      "\n",
      "Min temp model saved successfully!\n"
     ]
    }
   ],
   "source": [
    "df = pd.read_csv(CLEANED_DATASET_PATH, sep=';')\n",
    "\n",
    "# --- Create ---\n",
    "X = df[['year', 'month', 'day', 'was_raining_previous_day', 'temp_max']]\n",
    "y = df['temp_min']\n",
    "\n",
    "X_train, X_test, y_train, y_test = train_test_split(X, y, test_size=0.3)\n",
    "\n",
    "polynomial_features = PolynomialFeatures(degree=POLYNOMIAL_DEGREE)\n",
    "X_train_ = polynomial_features.fit_transform(X_train)\n",
    "X_test_ = polynomial_features.transform(X_test)\n",
    "\n",
    "model = LinearRegression()\n",
    "model.fit(X_train_, y_train)\n",
    "\n",
    "# --- Test ---\n",
    "\n",
    "y_pred = model.predict(X_test_)\n",
    "\n",
    "mae = mean_absolute_error(y_test, y_pred)\n",
    "mse = mean_squared_error(y_test, y_pred)\n",
    "r2 = r2_score(y_test, y_pred)\n",
    "\n",
    "print(f'Minimum temperature Prediction - MAE: {mae:.2f}, MSE: {mse:.2f}, R2: {r2:.2f}')\n",
    "\n",
    "# --- Save ---\n",
    "joblib.dump(model, MODEL_TEMP_MIN_PATH)\n",
    "\n",
    "print('\\nMin temp model saved successfully!')\n"
   ]
  }
 ],
 "metadata": {
  "kernelspec": {
   "display_name": "venv",
   "language": "python",
   "name": "python3"
  },
  "language_info": {
   "codemirror_mode": {
    "name": "ipython",
    "version": 3
   },
   "file_extension": ".py",
   "mimetype": "text/x-python",
   "name": "python",
   "nbconvert_exporter": "python",
   "pygments_lexer": "ipython3",
   "version": "3.10.4"
  }
 },
 "nbformat": 4,
 "nbformat_minor": 2
}
